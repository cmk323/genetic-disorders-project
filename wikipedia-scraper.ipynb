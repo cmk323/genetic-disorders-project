{
 "cells": [
  {
   "cell_type": "markdown",
   "metadata": {},
   "source": [
    "# Web scraping Wikipedia"
   ]
  },
  {
   "cell_type": "markdown",
   "metadata": {},
   "source": [
    "Obtain the data from the \"Full genetic disorders list\" table on Wikipedia and store it in a dataframe"
   ]
  },
  {
   "cell_type": "code",
   "execution_count": 1,
   "metadata": {},
   "outputs": [],
   "source": [
    "from bs4 import BeautifulSoup\n",
    "import requests\n",
    "import pandas as pd\n",
    "import numpy as np\n",
    "import lxml\n",
    "import re"
   ]
  },
  {
   "cell_type": "markdown",
   "metadata": {},
   "source": [
    "obtain and parse HTML file"
   ]
  },
  {
   "cell_type": "code",
   "execution_count": 2,
   "metadata": {},
   "outputs": [],
   "source": [
    "url = \"https://en.wikipedia.org/wiki/List_of_genetic_disorders\"\n",
    "r = requests.get(url)\n",
    "html = r.content\n",
    "soup = BeautifulSoup(html, 'lxml')"
   ]
  },
  {
   "cell_type": "markdown",
   "metadata": {},
   "source": [
    "find and extract \"Full genetic disorders list\" table"
   ]
  },
  {
   "cell_type": "code",
   "execution_count": 3,
   "metadata": {},
   "outputs": [],
   "source": [
    "table = soup.find_all('table')[2]"
   ]
  },
  {
   "cell_type": "markdown",
   "metadata": {},
   "source": [
    "check the header of the table"
   ]
  },
  {
   "cell_type": "code",
   "execution_count": 4,
   "metadata": {},
   "outputs": [
    {
     "data": {
      "text/plain": [
       "['\\n',\n",
       " <th>Disorder\n",
       " </th>,\n",
       " '\\n',\n",
       " <th>Chromosome or gene\n",
       " </th>,\n",
       " '\\n',\n",
       " <th>Type\n",
       " </th>,\n",
       " '\\n',\n",
       " <th>Reference\n",
       " </th>,\n",
       " '\\n',\n",
       " <th>Prevalence\n",
       " </th>]"
      ]
     },
     "execution_count": 4,
     "metadata": {},
     "output_type": "execute_result"
    }
   ],
   "source": [
    "table.find_all('tr')[0].contents"
   ]
  },
  {
   "cell_type": "markdown",
   "metadata": {},
   "source": [
    "prepare lists containing data for disorder name, chromosome or gene location, mutation type, and prevalence from the table"
   ]
  },
  {
   "cell_type": "code",
   "execution_count": 5,
   "metadata": {},
   "outputs": [],
   "source": [
    "disorders = [row.contents[1].text for row in table.find_all('tr')]\n",
    "disorders = [disorder.strip('\\n') for disorder in disorders]\n",
    "disorders = disorders[1:]\n",
    "#disorders"
   ]
  },
  {
   "cell_type": "code",
   "execution_count": 6,
   "metadata": {},
   "outputs": [],
   "source": [
    "locations = [row.contents[3].text for row in table.find_all('tr')]\n",
    "locations = [location.strip('\\n') for location in locations]\n",
    "locations = locations[1:]\n",
    "#locations"
   ]
  },
  {
   "cell_type": "code",
   "execution_count": 7,
   "metadata": {},
   "outputs": [],
   "source": [
    "types = [row.contents[5].text for row in table.find_all('tr')]\n",
    "types = [type.strip('\\n') for type in types]\n",
    "types = types[1:]\n",
    "#types"
   ]
  },
  {
   "cell_type": "code",
   "execution_count": 8,
   "metadata": {},
   "outputs": [],
   "source": [
    "prevalences = [row.contents[9].text for row in table.find_all('tr')]\n",
    "prevalences = [prevalence.strip('\\n') for prevalence in prevalences]\n",
    "prevalences = prevalences[1:]\n",
    "#prevalences"
   ]
  },
  {
   "cell_type": "markdown",
   "metadata": {},
   "source": [
    "Because the prevalence data is given as ratios and includes ratios, it can be simplified by parsing each string to obtain the minimum possible prevalence as floats."
   ]
  },
  {
   "cell_type": "code",
   "execution_count": 9,
   "metadata": {},
   "outputs": [],
   "source": [
    "min_prevalences = []\n",
    "for prevalence in prevalences:\n",
    "    if (len(prevalence)):\n",
    "        split = re.split(':|-|\\s|\\*|\\n|\\[', prevalence)\n",
    "        selection = split[1]\n",
    "        selection = float(selection.replace(',', ''))\n",
    "        result = 1/selection\n",
    "        min_prevalences.append(result)\n",
    "    else:\n",
    "        min_prevalences.append('')"
   ]
  },
  {
   "cell_type": "markdown",
   "metadata": {},
   "source": [
    "Merge the lists together in a dataframe"
   ]
  },
  {
   "cell_type": "code",
   "execution_count": 10,
   "metadata": {},
   "outputs": [],
   "source": [
    "df = pd.DataFrame(list(zip(disorders, locations, types, prevalences, min_prevalences)), \n",
    "columns=['Disorder', \"Chromosome or Gene\", \"Mutation Type\", \"Prevalence\", \"Minimum Prevalence\"])"
   ]
  },
  {
   "cell_type": "markdown",
   "metadata": {},
   "source": [
    "Convert empty strings into NaN"
   ]
  },
  {
   "cell_type": "code",
   "execution_count": 11,
   "metadata": {},
   "outputs": [],
   "source": [
    "df2 = df.replace(r'^\\s*$', np.nan, regex=True)"
   ]
  },
  {
   "cell_type": "markdown",
   "metadata": {},
   "source": [
    "Remove rows with missing data for mutation type or prevalence"
   ]
  },
  {
   "cell_type": "code",
   "execution_count": 12,
   "metadata": {},
   "outputs": [],
   "source": [
    "df3 = df2.dropna()"
   ]
  },
  {
   "cell_type": "markdown",
   "metadata": {},
   "source": [
    "Save the data to csv and Excel files"
   ]
  },
  {
   "cell_type": "code",
   "execution_count": 13,
   "metadata": {},
   "outputs": [],
   "source": [
    "df.to_csv(\"genetic_disorders.csv\", index = False, header = True)\n",
    "df.to_excel(\"genetic_disorders.xlsx\", index = False, header = True)"
   ]
  }
 ],
 "metadata": {
  "interpreter": {
   "hash": "174b2d4b9ebd48dc59c3202d0861b135a7c1eb297ecffcc05b645abd25007ba0"
  },
  "kernelspec": {
   "display_name": "Python 3.9.7 ('base')",
   "language": "python",
   "name": "python3"
  },
  "language_info": {
   "codemirror_mode": {
    "name": "ipython",
    "version": 3
   },
   "file_extension": ".py",
   "mimetype": "text/x-python",
   "name": "python",
   "nbconvert_exporter": "python",
   "pygments_lexer": "ipython3",
   "version": "3.9.7"
  },
  "orig_nbformat": 4
 },
 "nbformat": 4,
 "nbformat_minor": 2
}
